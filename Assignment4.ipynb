{
  "nbformat": 4,
  "nbformat_minor": 0,
  "metadata": {
    "kernelspec": {
      "display_name": "Python 3",
      "language": "python",
      "name": "python3"
    },
    "language_info": {
      "codemirror_mode": {
        "name": "ipython",
        "version": 3
      },
      "file_extension": ".py",
      "mimetype": "text/x-python",
      "name": "python",
      "nbconvert_exporter": "python",
      "pygments_lexer": "ipython3",
      "version": "3.7.7"
    },
    "colab": {
      "name": "21100271.ipynb",
      "provenance": [],
      "collapsed_sections": []
    }
  },
  "cells": [
    {
      "cell_type": "markdown",
      "metadata": {
        "id": "RR_bNQu86F9y",
        "colab_type": "text"
      },
      "source": [
        "## Libraries"
      ]
    },
    {
      "cell_type": "code",
      "metadata": {
        "id": "nxkjXRgdsZBv",
        "colab_type": "code",
        "colab": {
          "base_uri": "https://localhost:8080/",
          "height": 72
        },
        "outputId": "765f43c1-92e2-4546-852b-4c698f03b7c0"
      },
      "source": [
        "import numpy as np\n",
        "import pandas as pd\n",
        "import matplotlib.pyplot as plt\n",
        "import seaborn as sn"
      ],
      "execution_count": 52,
      "outputs": [
        {
          "output_type": "stream",
          "text": [
            "/usr/local/lib/python3.6/dist-packages/statsmodels/tools/_testing.py:19: FutureWarning: pandas.util.testing is deprecated. Use the functions in the public API at pandas.testing instead.\n",
            "  import pandas.util.testing as tm\n"
          ],
          "name": "stderr"
        }
      ]
    },
    {
      "cell_type": "markdown",
      "metadata": {
        "id": "puaVACpl6M50",
        "colab_type": "text"
      },
      "source": [
        "## Reading data"
      ]
    },
    {
      "cell_type": "code",
      "metadata": {
        "id": "lOOZulU2sZB5",
        "colab_type": "code",
        "colab": {
          "base_uri": "https://localhost:8080/",
          "height": 206
        },
        "outputId": "d8d4551a-7926-4b73-8f3c-75ae599aa80a"
      },
      "source": [
        "df = pd.read_csv(\"Tweets.csv\")\n",
        "df.head()"
      ],
      "execution_count": 2,
      "outputs": [
        {
          "output_type": "execute_result",
          "data": {
            "text/html": [
              "<div>\n",
              "<style scoped>\n",
              "    .dataframe tbody tr th:only-of-type {\n",
              "        vertical-align: middle;\n",
              "    }\n",
              "\n",
              "    .dataframe tbody tr th {\n",
              "        vertical-align: top;\n",
              "    }\n",
              "\n",
              "    .dataframe thead th {\n",
              "        text-align: right;\n",
              "    }\n",
              "</style>\n",
              "<table border=\"1\" class=\"dataframe\">\n",
              "  <thead>\n",
              "    <tr style=\"text-align: right;\">\n",
              "      <th></th>\n",
              "      <th>airline_sentiment</th>\n",
              "      <th>text</th>\n",
              "    </tr>\n",
              "  </thead>\n",
              "  <tbody>\n",
              "    <tr>\n",
              "      <th>0</th>\n",
              "      <td>neutral</td>\n",
              "      <td>@USAirways Is there a phone line to call into ...</td>\n",
              "    </tr>\n",
              "    <tr>\n",
              "      <th>1</th>\n",
              "      <td>positive</td>\n",
              "      <td>@united Bag was finally delivered and intact. ...</td>\n",
              "    </tr>\n",
              "    <tr>\n",
              "      <th>2</th>\n",
              "      <td>positive</td>\n",
              "      <td>@usairways Thanks to Kevin and team at F38ish ...</td>\n",
              "    </tr>\n",
              "    <tr>\n",
              "      <th>3</th>\n",
              "      <td>negative</td>\n",
              "      <td>@AmericanAir Yes, talked to them. FLL says is ...</td>\n",
              "    </tr>\n",
              "    <tr>\n",
              "      <th>4</th>\n",
              "      <td>negative</td>\n",
              "      <td>@VirginAmerica and it's a really big bad thing...</td>\n",
              "    </tr>\n",
              "  </tbody>\n",
              "</table>\n",
              "</div>"
            ],
            "text/plain": [
              "  airline_sentiment                                               text\n",
              "0           neutral  @USAirways Is there a phone line to call into ...\n",
              "1          positive  @united Bag was finally delivered and intact. ...\n",
              "2          positive  @usairways Thanks to Kevin and team at F38ish ...\n",
              "3          negative  @AmericanAir Yes, talked to them. FLL says is ...\n",
              "4          negative  @VirginAmerica and it's a really big bad thing..."
            ]
          },
          "metadata": {
            "tags": []
          },
          "execution_count": 2
        }
      ]
    },
    {
      "cell_type": "markdown",
      "metadata": {
        "id": "fkzn-3f76RVg",
        "colab_type": "text"
      },
      "source": [
        "## Separating data into Positive, negative and neutral"
      ]
    },
    {
      "cell_type": "code",
      "metadata": {
        "id": "DtuixGUFsZCF",
        "colab_type": "code",
        "colab": {}
      },
      "source": [
        "def splitter(dataset):\n",
        "    positive = []\n",
        "    neutral  = []\n",
        "    negative = []\n",
        "    for i, val in dataset.iterrows() :\n",
        "        if val['airline_sentiment'] == 'positive' :\n",
        "            positive.append(val['text'])\n",
        "        if val['airline_sentiment'] == 'neutral' :\n",
        "            neutral.append(val['text'])\n",
        "        if val['airline_sentiment'] == 'negative' :\n",
        "            negative.append(val['text'])\n",
        "    return [positive, neutral, negative]"
      ],
      "execution_count": 0,
      "outputs": []
    },
    {
      "cell_type": "code",
      "metadata": {
        "id": "deJunyw8sZCN",
        "colab_type": "code",
        "colab": {}
      },
      "source": [
        "dataset = splitter(df)"
      ],
      "execution_count": 0,
      "outputs": []
    },
    {
      "cell_type": "code",
      "metadata": {
        "id": "bV7PZhS9sZCT",
        "colab_type": "code",
        "colab": {}
      },
      "source": [
        "data = []\n",
        "for i,val in enumerate(dataset) :\n",
        "    temp = []\n",
        "    for j,val2 in enumerate(dataset[i]):\n",
        "        temp2 = dataset[i][j].split()\n",
        "        temp.append(temp2)\n",
        "    data.append(temp)"
      ],
      "execution_count": 0,
      "outputs": []
    },
    {
      "cell_type": "markdown",
      "metadata": {
        "id": "dfRFMKoM6ZW6",
        "colab_type": "text"
      },
      "source": [
        "## Making a set of words used in data"
      ]
    },
    {
      "cell_type": "code",
      "metadata": {
        "id": "-4LR3IFWsZCa",
        "colab_type": "code",
        "colab": {}
      },
      "source": [
        "word_set = set()\n",
        "for i, val in enumerate(data):\n",
        "    for j , val2 in enumerate(data[i]) :\n",
        "        word_set.update(data[i][j])\n",
        "        \n",
        "length = len(word_set)"
      ],
      "execution_count": 0,
      "outputs": []
    },
    {
      "cell_type": "markdown",
      "metadata": {
        "id": "xc3lL5O76fRy",
        "colab_type": "text"
      },
      "source": [
        "## Making dictionary of words"
      ]
    },
    {
      "cell_type": "code",
      "metadata": {
        "id": "aMHAZSvQsZCg",
        "colab_type": "code",
        "colab": {}
      },
      "source": [
        "i = 0\n",
        "dictionary = {}\n",
        "for j in word_set:\n",
        "    dictionary[j] = i\n",
        "    i+=1"
      ],
      "execution_count": 0,
      "outputs": []
    },
    {
      "cell_type": "markdown",
      "metadata": {
        "id": "dsXDoysS6ih3",
        "colab_type": "text"
      },
      "source": [
        "## Represinting data into bag of words"
      ]
    },
    {
      "cell_type": "code",
      "metadata": {
        "id": "F6MKx7SlsZCn",
        "colab_type": "code",
        "colab": {}
      },
      "source": [
        "def bag_of_word(data, length) :\n",
        "    global dictionary\n",
        "    ret = []\n",
        "    for i, val in enumerate(data) :\n",
        "        temp = []\n",
        "        for j, val2 in enumerate(data[i]) :\n",
        "            temp2 = [0]*length\n",
        "            for k, val3 in enumerate(data[i][j]) :\n",
        "                try:\n",
        "                    index = dictionary[data[i][j][k]]\n",
        "                    temp2[index]+=1\n",
        "                except:\n",
        "                    continue\n",
        "            temp.append(temp2)\n",
        "        ret.append(temp)\n",
        "    return ret"
      ],
      "execution_count": 0,
      "outputs": []
    },
    {
      "cell_type": "code",
      "metadata": {
        "id": "lRoCV9jcsZCr",
        "colab_type": "code",
        "colab": {}
      },
      "source": [
        "bag = bag_of_word(data, length)"
      ],
      "execution_count": 0,
      "outputs": []
    },
    {
      "cell_type": "markdown",
      "metadata": {
        "id": "tqb-Cuu36n9B",
        "colab_type": "text"
      },
      "source": [
        "## Stratifiend splitting data with 80:20 ratio"
      ]
    },
    {
      "cell_type": "code",
      "metadata": {
        "id": "fNYw0JIBsZCx",
        "colab_type": "code",
        "colab": {}
      },
      "source": [
        "def split_(data) :\n",
        "    len_pos= len(data[0])\n",
        "    len_neg = len(data[2])\n",
        "    len_neu = len(data[1])\n",
        "    train = []\n",
        "    test = []\n",
        "    train.append(data[0][0:int(0.8*len_pos)])\n",
        "    train.append(data[2][0:int(0.8*len_neg)])\n",
        "    train.append(data[1][0:int(0.8*len_neu)])\n",
        "    test.append(data[0][int(0.8*len_pos):])\n",
        "    test.append(data[2][int(0.8*len_neg):])\n",
        "    test.append(data[1][int(0.8*len_neu):])\n",
        "    return train, test"
      ],
      "execution_count": 0,
      "outputs": []
    },
    {
      "cell_type": "code",
      "metadata": {
        "id": "pA9AGTkLsZC2",
        "colab_type": "code",
        "colab": {}
      },
      "source": [
        "train, test = split_(bag)"
      ],
      "execution_count": 0,
      "outputs": []
    },
    {
      "cell_type": "markdown",
      "metadata": {
        "id": "-B-0At-U6xwT",
        "colab_type": "text"
      },
      "source": [
        "## Training of Data (next two cell)"
      ]
    },
    {
      "cell_type": "code",
      "metadata": {
        "id": "QWyRucvhsZC9",
        "colab_type": "code",
        "colab": {}
      },
      "source": [
        "p_pos = np.log(len(train[0])/float(len(train[0])+len(train[1])+len(train[2])))\n",
        "p_neg = np.log(len(train[1])/float(len(train[0])+len(train[1])+len(train[2])))\n",
        "p_neu = np.log(len(train[2])/float(len(train[0])+len(train[1])+len(train[2])))\n",
        "p = [p_pos,p_neg,p_neu]"
      ],
      "execution_count": 0,
      "outputs": []
    },
    {
      "cell_type": "code",
      "metadata": {
        "id": "YvCOLm_asZDD",
        "colab_type": "code",
        "colab": {}
      },
      "source": [
        "train_sum = []\n",
        "for i,_  in enumerate(train):\n",
        "    temp = np.sum(train[i], axis= 0)\n",
        "    temp = np.add(temp,1)\n",
        "    temp = np.true_divide(temp, np.sum(temp))\n",
        "    train_sum.append(np.log(temp))"
      ],
      "execution_count": 0,
      "outputs": []
    },
    {
      "cell_type": "markdown",
      "metadata": {
        "id": "Fb-JN_fJ63oH",
        "colab_type": "text"
      },
      "source": [
        "## Predictiong test data"
      ]
    },
    {
      "cell_type": "code",
      "metadata": {
        "id": "mhNJbngZt1RT",
        "colab_type": "code",
        "colab": {}
      },
      "source": [
        "def predict(test):\n",
        "    global train_sum, p\n",
        "    s = []\n",
        "    for i in range(3):\n",
        "      ans = 0\n",
        "      for j,_ in enumerate(test):\n",
        "        for k in range(test[j]):\n",
        "          ans += train_sum[i][j]\n",
        "      final = p[i]+ans\n",
        "      s.append(final)\n",
        "    return np.argmax(s)\n"
      ],
      "execution_count": 0,
      "outputs": []
    },
    {
      "cell_type": "markdown",
      "metadata": {
        "id": "ys81TFRV671-",
        "colab_type": "text"
      },
      "source": [
        "## Test Accuracy"
      ]
    },
    {
      "cell_type": "code",
      "metadata": {
        "id": "FBG2MjbXsZDI",
        "colab_type": "code",
        "colab": {
          "base_uri": "https://localhost:8080/",
          "height": 34
        },
        "outputId": "1f793b7f-edf7-4137-ae0d-10bf01337d12"
      },
      "source": [
        "total = len(test[0]+test[1]+test[2])\n",
        "confusion = [[0]*3 for _ in range(3) ]\n",
        "accuracy = 0\n",
        "for i, val in enumerate(test):\n",
        "  for j,_ in enumerate(test[i]):\n",
        "    z = predict(test[i][j])\n",
        "    if z == i :\n",
        "      accuracy +=1\n",
        "    if z == 0 :\n",
        "      if i == 0 :\n",
        "        confusion[0][0]+=1\n",
        "      if i == 1 :\n",
        "        confusion[0][1] +=1\n",
        "      if i == 2:\n",
        "        confusion[0][2] +=1\n",
        "    if z == 1 :\n",
        "      if i == 0 :\n",
        "        confusion[1][0]+=1\n",
        "      if i == 1 :\n",
        "        confusion[1][1] +=1\n",
        "      if i == 2:\n",
        "        confusion[1][2] +=1\n",
        "    if z == 2 :\n",
        "      if i == 0 :\n",
        "        confusion[2][0]+=1\n",
        "      if i == 1 :\n",
        "        confusion[2][1] +=1\n",
        "      if i == 2:\n",
        "        confusion[2][2] +=1\n",
        "print('accuracy : ', accuracy/total)"
      ],
      "execution_count": 50,
      "outputs": [
        {
          "output_type": "stream",
          "text": [
            "accuracy :  0.7494025264595425\n"
          ],
          "name": "stdout"
        }
      ]
    },
    {
      "cell_type": "markdown",
      "metadata": {
        "id": "rml7SK-I7AqO",
        "colab_type": "text"
      },
      "source": [
        "## Confusion Matrix"
      ]
    },
    {
      "cell_type": "code",
      "metadata": {
        "id": "qooWYnxisZDN",
        "colab_type": "code",
        "colab": {
          "base_uri": "https://localhost:8080/",
          "height": 444
        },
        "outputId": "ddd16838-2547-4db6-bb21-e863dd94d357"
      },
      "source": [
        "df_cm = pd.DataFrame(confusion, index = [i for i in ['pos', 'neg', 'neu']],columns = [i for i in ['pos', 'neg', 'neu']])\n",
        "plt.figure(figsize = (10,7))\n",
        "plt.title('Confusion Matrix')\n",
        "sn.heatmap(df_cm, annot=True, fmt='g', cbar = False, cmap = 'Blues')     \n",
        "plt.show()"
      ],
      "execution_count": 53,
      "outputs": [
        {
          "output_type": "display_data",
          "data": {
            "image/png": "[encoded data removed]",
            "text/plain": [
              "<Figure size 720x504 with 1 Axes>"
            ]
          },
          "metadata": {
            "tags": [],
            "needs_background": "light"
          }
        }
      ]
    },
    {
      "cell_type": "code",
      "metadata": {
        "id": "69PQG2h7sZDT",
        "colab_type": "code",
        "colab": {}
      },
      "source": [
        "TP1 = confusion[0][0]\n",
        "TP2 = confusion[1][1]\n",
        "TP3 = confusion[2][2]\n",
        "TN1 = confusion[1][1] + confusion[1][2] + confusion[2][1] + confusion[2][2]\n",
        "TN2 = confusion[0][0] + confusion[0][2] + confusion[2][0] + confusion[2][2]\n",
        "TN3 = confusion[0][0] + confusion[0][1] + confusion[1][0] + confusion[1][1]\n",
        "FP1 = confusion[0][1] + confusion[0][2]\n",
        "FP2 = confusion[1][0] + confusion[1][2]\n",
        "FP3 = confusion[2][0] + confusion[2][1]\n",
        "FN1 = confusion[1][0] + confusion[2][0]\n",
        "FN2 = confusion[0][1] + confusion[2][1]\n",
        "FN3 = confusion[0][2] + confusion[1][2]"
      ],
      "execution_count": 0,
      "outputs": []
    },
    {
      "cell_type": "code",
      "metadata": {
        "id": "nncuawNR5hp7",
        "colab_type": "code",
        "colab": {}
      },
      "source": [
        "P1 = TP1/float(TP1+FP1)\n",
        "P2 = TP2/float(TP2+FP2)\n",
        "P3 = TP3/float(TP3+FP3)\n",
        "R1 = TP1/float(TP1+FN1)\n",
        "R2 = TP2/float(TP2+FN2)\n",
        "R3 = TP3/float(TP3+FN3)"
      ],
      "execution_count": 0,
      "outputs": []
    },
    {
      "cell_type": "markdown",
      "metadata": {
        "id": "SnEPL4dy7GkI",
        "colab_type": "text"
      },
      "source": [
        "## Micro-Average stats"
      ]
    },
    {
      "cell_type": "code",
      "metadata": {
        "id": "M0XFuJuK5lz7",
        "colab_type": "code",
        "colab": {
          "base_uri": "https://localhost:8080/",
          "height": 69
        },
        "outputId": "5c0aca89-7354-4e44-eb85-d08f7b95037f"
      },
      "source": [
        "Precision = (TP1+TP2+TP3)/float(TP1+TP2+TP3+FP1+FP2+FP3)\n",
        "Recall = (TP1+TP2+TP3)/float(TP1+TP2+TP3+FN1+FN2+FN3)\n",
        "F1_score = 2*(Precision*Recall)/float(Precision+Recall)\n",
        "\n",
        "print(' Micro-Average Precison is : ', Precision)\n",
        "print(' Micro-average Recall is : ', Recall)\n",
        "print(' Micro-average F1-score is : ', F1_score)"
      ],
      "execution_count": 56,
      "outputs": [
        {
          "output_type": "stream",
          "text": [
            " Micro-Average Precison is :  0.7494025264595425\n",
            " Micro-average Recall is :  0.7494025264595425\n",
            " Micro-average F1-score is :  0.7494025264595425\n"
          ],
          "name": "stdout"
        }
      ]
    },
    {
      "cell_type": "markdown",
      "metadata": {
        "id": "PwyoNAGY7Lk9",
        "colab_type": "text"
      },
      "source": [
        "## Macro-Average stats"
      ]
    },
    {
      "cell_type": "code",
      "metadata": {
        "id": "MqVZNaK75zAX",
        "colab_type": "code",
        "colab": {
          "base_uri": "https://localhost:8080/",
          "height": 69
        },
        "outputId": "94f39e07-e69a-4c73-8125-7a0d786cd0a6"
      },
      "source": [
        "Precision_ = (P1+P2+P3)/3\n",
        "Recall_ = (R1+R2+R3)/3\n",
        "F1_score_ = 2*(Precision_*Recall_)/float(Precision_+Recall_)\n",
        "\n",
        "print(' Macro-Average Precison is : ', Precision_)\n",
        "print(' Macro-average Recall is : ', Recall_)\n",
        "print(' Macro-average F1-score is : ', F1_score_)"
      ],
      "execution_count": 57,
      "outputs": [
        {
          "output_type": "stream",
          "text": [
            " Macro-Average Precison is :  0.7410967735825954\n",
            " Macro-average Recall is :  0.5813071831039559\n",
            " Macro-average F1-score is :  0.6515480775453278\n"
          ],
          "name": "stdout"
        }
      ]
    }
  ]
}