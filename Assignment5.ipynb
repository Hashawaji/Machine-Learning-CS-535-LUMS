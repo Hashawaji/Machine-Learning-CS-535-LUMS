{
  "nbformat": 4,
  "nbformat_minor": 0,
  "metadata": {
    "colab": {
      "name": "21100271_Assignment5.ipynb",
      "provenance": [],
      "collapsed_sections": []
    },
    "kernelspec": {
      "name": "python3",
      "display_name": "Python 3"
    }
  },
  "cells": [
    {
      "cell_type": "markdown",
      "metadata": {
        "id": "kRnVVit7j-s-",
        "colab_type": "text"
      },
      "source": [
        "## Importing Libraries"
      ]
    },
    {
      "cell_type": "code",
      "metadata": {
        "id": "TBR3XgAQMJQc",
        "colab_type": "code",
        "colab": {}
      },
      "source": [
        "import pandas as pd\n",
        "import numpy as np\n",
        "from sklearn import preprocessing"
      ],
      "execution_count": 0,
      "outputs": []
    },
    {
      "cell_type": "markdown",
      "metadata": {
        "id": "U0ZuF62RkCBA",
        "colab_type": "text"
      },
      "source": [
        "## Reading Data"
      ]
    },
    {
      "cell_type": "code",
      "metadata": {
        "id": "Aqo9A7M1MMCG",
        "colab_type": "code",
        "colab": {}
      },
      "source": [
        "train_data = pd.read_csv(\"train.csv\", names = [\"SL\", \"SW\", \"PL\", \"PW\", \"Y\"])\n",
        "test_data = pd.read_csv(\"test.csv\", names = [\"SL\", \"SW\", \"PL\", \"PW\", \"Y\"])"
      ],
      "execution_count": 0,
      "outputs": []
    },
    {
      "cell_type": "markdown",
      "metadata": {
        "id": "OqN_-glakJgi",
        "colab_type": "text"
      },
      "source": [
        "### Separating labels from data"
      ]
    },
    {
      "cell_type": "code",
      "metadata": {
        "id": "COy7cbABMx-3",
        "colab_type": "code",
        "colab": {}
      },
      "source": [
        "train_y = list(train_data[\"Y\"])\n",
        "test_y = list(test_data[\"Y\"])"
      ],
      "execution_count": 0,
      "outputs": []
    },
    {
      "cell_type": "code",
      "metadata": {
        "id": "N1X3ZcbuNEOi",
        "colab_type": "code",
        "colab": {}
      },
      "source": [
        "train_data = train_data.drop(columns = [\"Y\"])\n",
        "test_data = test_data.drop(columns = [\"Y\"])"
      ],
      "execution_count": 0,
      "outputs": []
    },
    {
      "cell_type": "markdown",
      "metadata": {
        "id": "2SUc-qqDkMZm",
        "colab_type": "text"
      },
      "source": [
        "### Normalizing data using minmax scaling"
      ]
    },
    {
      "cell_type": "code",
      "metadata": {
        "id": "216QlP9-NguV",
        "colab_type": "code",
        "colab": {}
      },
      "source": [
        "train_val = train_data.values\n",
        "min_max_scaler = preprocessing.MinMaxScaler()\n",
        "train = min_max_scaler.fit_transform(train_val)"
      ],
      "execution_count": 0,
      "outputs": []
    },
    {
      "cell_type": "code",
      "metadata": {
        "id": "84a5EW3zN2bq",
        "colab_type": "code",
        "colab": {}
      },
      "source": [
        "test_val = test_data.values \n",
        "min_max_scaler = preprocessing.MinMaxScaler()\n",
        "test = min_max_scaler.fit_transform(test_val)"
      ],
      "execution_count": 0,
      "outputs": []
    },
    {
      "cell_type": "markdown",
      "metadata": {
        "id": "vbtOYiE1kXED",
        "colab_type": "text"
      },
      "source": [
        "### Making dictionary for labels"
      ]
    },
    {
      "cell_type": "code",
      "metadata": {
        "id": "ujQrMbzKghaI",
        "colab_type": "code",
        "colab": {}
      },
      "source": [
        "dictionary = {\n",
        "    'Iris-setosa' : 0,\n",
        "    'Iris-versicolor' : 1,\n",
        "    'Iris-virginica' : 2\n",
        "}"
      ],
      "execution_count": 0,
      "outputs": []
    },
    {
      "cell_type": "markdown",
      "metadata": {
        "id": "PRIHEVz3kaj1",
        "colab_type": "text"
      },
      "source": [
        "# Implementing Classifier"
      ]
    },
    {
      "cell_type": "code",
      "metadata": {
        "id": "q0SkU_mlOj9E",
        "colab_type": "code",
        "colab": {}
      },
      "source": [
        "def KNN(k, test):\n",
        "  global train, train_y, dictionary\n",
        "  K_nearest = [0]*k\n",
        "  distance = []\n",
        "  for i, val in enumerate(train):\n",
        "    distance.append(np.linalg.norm(val-test))\n",
        "  for i in range(k):\n",
        "    min = distance[0]\n",
        "    for j in range(len(distance)) :\n",
        "      if distance[j]<min:\n",
        "        min = distance[j]\n",
        "        K_nearest[i] = j\n",
        "    distance[K_nearest[i]] = 1.7e308\n",
        "  setosa = 0\n",
        "  versicolor = 0\n",
        "  virginica = 0\n",
        "  for i in range(k):\n",
        "\n",
        "    if dictionary[train_y[K_nearest[i]]] == 0:\n",
        "      setosa+=1\n",
        "    if dictionary[train_y[K_nearest[i]]] == 1:\n",
        "      versicolor +=1\n",
        "    if dictionary[train_y[K_nearest[i]]] == 2:\n",
        "      virginica +=1\n",
        "\n",
        "  return np.argmax([setosa, versicolor, virginica])\n",
        "    "
      ],
      "execution_count": 0,
      "outputs": []
    },
    {
      "cell_type": "markdown",
      "metadata": {
        "id": "F5epTArdkep-",
        "colab_type": "text"
      },
      "source": [
        "## Testing Test Data"
      ]
    },
    {
      "cell_type": "code",
      "metadata": {
        "id": "Z333s0xNOnDS",
        "colab_type": "code",
        "colab": {
          "base_uri": "https://localhost:8080/",
          "height": 68
        },
        "outputId": "298a9c24-5c57-4e8c-84d4-70c354f569bf"
      },
      "source": [
        "for k in [1,3,5]:\n",
        "  accuracy = 0\n",
        "  for i in range(len(test)) :\n",
        "    pred = KNN(k,test[i])\n",
        "    real = dictionary[test_y[i]] \n",
        "    if real == pred :\n",
        "      accuracy+=1\n",
        "  print(\"Accuracy for k = \",k,\" is : \", accuracy)"
      ],
      "execution_count": 46,
      "outputs": [
        {
          "output_type": "stream",
          "text": [
            "Accuracy for k =  1  is :  14\n",
            "Accuracy for k =  3  is :  13\n",
            "Accuracy for k =  5  is :  15\n"
          ],
          "name": "stdout"
        }
      ]
    }
  ]
}